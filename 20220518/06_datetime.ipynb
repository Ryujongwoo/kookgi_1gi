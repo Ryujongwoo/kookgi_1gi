{
 "cells": [
  {
   "cell_type": "markdown",
   "id": "83eb7a83",
   "metadata": {},
   "source": [
    "# datetime 모듈\n",
    "컴퓨터 시스템의 날짜와 시간을 얻어온다."
   ]
  },
  {
   "cell_type": "code",
   "execution_count": 2,
   "id": "824c083e",
   "metadata": {},
   "outputs": [
    {
     "name": "stdout",
     "output_type": "stream",
     "text": [
      "2022-05-18 12:47:14.236872\n"
     ]
    }
   ],
   "source": [
    "import datetime # datetime 모듈 전체를 import 한다.\n",
    "now = datetime.datetime.now()\n",
    "print(now)"
   ]
  },
  {
   "cell_type": "code",
   "execution_count": 3,
   "id": "e71766e1",
   "metadata": {},
   "outputs": [
    {
     "name": "stdout",
     "output_type": "stream",
     "text": [
      "2022-05-18 12:49:29.050165\n"
     ]
    }
   ],
   "source": [
    "from datetime import datetime # datetime 모듈에서 datetime 클래스만 import 한다.\n",
    "now2 = datetime.now()\n",
    "print(now2)"
   ]
  },
  {
   "cell_type": "code",
   "execution_count": 4,
   "id": "113366c7",
   "metadata": {},
   "outputs": [
    {
     "name": "stdout",
     "output_type": "stream",
     "text": [
      "2022-05-18 12:50:47.272145\n"
     ]
    }
   ],
   "source": [
    "from datetime import datetime as dt # datetime 클래스의 별명을 dt로 지정한다.\n",
    "now3 = dt.now()\n",
    "print(now3)"
   ]
  },
  {
   "cell_type": "markdown",
   "id": "0726ef31",
   "metadata": {},
   "source": [
    "날짜, 시간 데이터에서 년, 월, 일, 시, 분, 초, 밀리초, 마이크로초, 요일 추출하기"
   ]
  },
  {
   "cell_type": "code",
   "execution_count": 12,
   "id": "a3e9755d",
   "metadata": {},
   "outputs": [
    {
     "name": "stdout",
     "output_type": "stream",
     "text": [
      "2022-05-18 13:00:48.041818\n",
      "년: 2022\n",
      "월: 5\n",
      "일: 18\n",
      "시: 13\n",
      "분: 0\n",
      "초: 48\n",
      "마이크로초: 41818\n",
      "밀리초: 41\n",
      "요일: 2\n",
      "요일: 수\n"
     ]
    }
   ],
   "source": [
    "from datetime import datetime as dt\n",
    "today = dt.now()\n",
    "print(today)\n",
    "print('년: {}'.format(today.year))\n",
    "print('월: {}'.format(today.month))\n",
    "print('일: {}'.format(today.day))\n",
    "print('시: {}'.format(today.hour))\n",
    "print('분: {}'.format(today.minute))\n",
    "print('초: {}'.format(today.second))\n",
    "print('마이크로초: {}'.format(today.microsecond))\n",
    "print('밀리초: {}'.format(today.microsecond // 1000))\n",
    "# weekday() 메소드로 요일을 얻어올 수 있다. => 월(0), 화(1), 수(2), 목(3), 금(4), 토(5), 일(6)\n",
    "print('요일: {}'.format(today.weekday()))\n",
    "week = ['월', '화', '수', '목', '금', '토', '일']\n",
    "print('요일: {}'.format(week[today.weekday()]))"
   ]
  },
  {
   "cell_type": "markdown",
   "id": "358c2ce8",
   "metadata": {},
   "source": [
    "날짜, 시간 데이터 수정하기"
   ]
  },
  {
   "cell_type": "code",
   "execution_count": 17,
   "id": "6c2ce65b",
   "metadata": {},
   "outputs": [
    {
     "name": "stdout",
     "output_type": "stream",
     "text": [
      "2022-05-18 13:05:41.070910\n",
      "2023-05-18 13:05:41.070910\n",
      "2022-12-18 13:05:41.070910\n",
      "2022-05-25 13:05:41.070910\n",
      "2022-05-18 18:05:41.070910\n",
      "2022-05-18 13:20:41.070910\n",
      "2022-05-18 13:05:30.070910\n",
      "2022-05-18 13:05:41.111111\n"
     ]
    }
   ],
   "source": [
    "from datetime import datetime as dt\n",
    "today = dt.now()\n",
    "print(today)\n",
    "print(today.replace(year=2023))\n",
    "print(today.replace(month=12))\n",
    "print(today.replace(day=25))\n",
    "print(today.replace(hour=18))\n",
    "print(today.replace(minute=20))\n",
    "print(today.replace(second=30))\n",
    "print(today.replace(microsecond=111111))"
   ]
  },
  {
   "cell_type": "markdown",
   "id": "bb3d046e",
   "metadata": {},
   "source": [
    "날짜, 시간 데이터 만들기"
   ]
  },
  {
   "cell_type": "code",
   "execution_count": 25,
   "id": "77bd034e",
   "metadata": {},
   "outputs": [
    {
     "name": "stdout",
     "output_type": "stream",
     "text": [
      "2022-07-15 00:00:00\n",
      "<class 'datetime.datetime'>\n",
      "2022-05-18 18:20:00\n",
      "<class 'datetime.datetime'>\n",
      "2022-07-15 18:20:00\n",
      "<class 'datetime.datetime'>\n"
     ]
    }
   ],
   "source": [
    "from dateutil.parser import parse\n",
    "date = parse('2022-7-15')\n",
    "print(date)\n",
    "print(type(date))\n",
    "time = parse('18:20:00')\n",
    "print(time)\n",
    "print(type(time))\n",
    "day = parse('2022-7-15 18:20:00')\n",
    "print(day)\n",
    "print(type(day))"
   ]
  },
  {
   "cell_type": "markdown",
   "id": "def54092",
   "metadata": {},
   "source": [
    "두 날짜 데이터 사이의 차이 계산하기"
   ]
  },
  {
   "cell_type": "code",
   "execution_count": 27,
   "id": "4651e17b",
   "metadata": {},
   "outputs": [
    {
     "name": "stdout",
     "output_type": "stream",
     "text": [
      "2022-05-18 13:14:06.452099\n"
     ]
    }
   ],
   "source": [
    "start = dt.now()\n",
    "print(start)"
   ]
  },
  {
   "cell_type": "code",
   "execution_count": 28,
   "id": "ce0a7c6b",
   "metadata": {},
   "outputs": [
    {
     "name": "stdout",
     "output_type": "stream",
     "text": [
      "2022-05-18 13:14:12.787815\n"
     ]
    }
   ],
   "source": [
    "end = dt.now()\n",
    "print(end)"
   ]
  },
  {
   "cell_type": "code",
   "execution_count": 37,
   "id": "a866200f",
   "metadata": {},
   "outputs": [
    {
     "name": "stdout",
     "output_type": "stream",
     "text": [
      "0:00:06.335716\n",
      "0\n",
      "6\n",
      "335716\n",
      "6.335716\n"
     ]
    }
   ],
   "source": [
    "t = end - start\n",
    "print(t)\n",
    "print(t.days) # 두 날짜 데이터 사이의 일 단위 차이를 얻어온다.\n",
    "print(t.seconds) # 두 날짜 데이터 사이의 초 단위 차이를 얻어온다.\n",
    "print(t.microseconds) # 두 날짜 데이터 사이의 마이크로초 단위 차이를 얻어온다.\n",
    "print(t.total_seconds()) # 두 날짜 데이터 사이의 차이를 초 단위로 환산해서 얻어온다."
   ]
  },
  {
   "cell_type": "code",
   "execution_count": 40,
   "id": "1f6cbfc9",
   "metadata": {},
   "outputs": [
    {
     "name": "stdout",
     "output_type": "stream",
     "text": [
      "58 days, 4:58:11.316893\n",
      "5029091.316893\n"
     ]
    }
   ],
   "source": [
    "t = parse('2022-7-15 18:20:00') - dt.now()\n",
    "print(t)\n",
    "print(t.total_seconds())"
   ]
  },
  {
   "cell_type": "markdown",
   "id": "a321ec90",
   "metadata": {},
   "source": [
    "날짜, 시간 출력 서식 지정하기  \n",
    "날짜데이터.strftime('출력서식')"
   ]
  },
  {
   "cell_type": "code",
   "execution_count": 44,
   "id": "7965891b",
   "metadata": {},
   "outputs": [
    {
     "name": "stdout",
     "output_type": "stream",
     "text": [
      "2022-05-18 14:37:25.103260\n",
      "2022-05-18\n",
      "22-05-18\n",
      "2022-May-18\n"
     ]
    }
   ],
   "source": [
    "today = dt.now()\n",
    "print(today)\n",
    "# %Y: 년도 4자리, %y: 년도 2자리, %m: 월(숫자), %B: 월(영어 => 전체), %b: 월(영어 => 앞 3글자)\n",
    "# %d: 일, %A: 요일(영어 => 전체), %a: 요일(영어 => 앞 3글자)\n",
    "print(today.strftime('%Y-%m-%d'))\n",
    "print(today.strftime('%y-%m-%d'))\n",
    "print(today.strftime('%Y-%B-%d'))"
   ]
  },
  {
   "cell_type": "code",
   "execution_count": null,
   "id": "d788ce72",
   "metadata": {},
   "outputs": [],
   "source": []
  },
  {
   "cell_type": "code",
   "execution_count": null,
   "id": "b9edd973",
   "metadata": {},
   "outputs": [],
   "source": []
  },
  {
   "cell_type": "code",
   "execution_count": null,
   "id": "31263c86",
   "metadata": {},
   "outputs": [],
   "source": []
  },
  {
   "cell_type": "code",
   "execution_count": null,
   "id": "8dbf5a16",
   "metadata": {},
   "outputs": [],
   "source": []
  }
 ],
 "metadata": {
  "kernelspec": {
   "display_name": "Python 3 (ipykernel)",
   "language": "python",
   "name": "python3"
  },
  "language_info": {
   "codemirror_mode": {
    "name": "ipython",
    "version": 3
   },
   "file_extension": ".py",
   "mimetype": "text/x-python",
   "name": "python",
   "nbconvert_exporter": "python",
   "pygments_lexer": "ipython3",
   "version": "3.10.4"
  }
 },
 "nbformat": 4,
 "nbformat_minor": 5
}
