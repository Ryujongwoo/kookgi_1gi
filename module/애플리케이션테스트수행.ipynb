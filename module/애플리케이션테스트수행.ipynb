{
 "cells": [
  {
   "cell_type": "markdown",
   "id": "ce4024ae",
   "metadata": {},
   "source": [
    "# 주민등록번호 유효성 검사\n",
    "주민등록번호의 각 자리 숫자와 가중치(234567892345)를 곱한 합계를 계산한다.  \n",
    "위의 결과를 11로 나눈 나머지를 계산해서 11에서 뺀다.  \n",
    "11에서 나머지를 뺀 결과가 2자리 숫자가 나올 수 있으므로 10의 자리는 버리고 1의 자리만 취한다.  \n",
    "1의 자리가 주민등록번호를 마지막 자리와 같으면 정상적인 주민등록번호이고 다르면 오류가 있는 주민등록번호이다."
   ]
  },
  {
   "cell_type": "code",
   "execution_count": null,
   "id": "039189d4",
   "metadata": {},
   "outputs": [],
   "source": [
    "check = '234567892345'\n",
    "jumin = input('주민등록번호 13자리를 \"-\"없이 입력하세요: ')\n",
    "total = 0\n",
    "for i in range(12):\n",
    "    total += int(jumin[i]) * int(check[i])\n",
    "result = 11 - total % 11 % 10\n",
    "print('정상' if result == int(jumin[-1]) else '오류')"
   ]
  },
  {
   "cell_type": "markdown",
   "id": "12783fd6",
   "metadata": {},
   "source": [
    "# 피보나치 수열\n",
    "피보나치 수열은 피보나치 수열의 n번째 항은 n-2 번째 항과 n-1 번째 항을 더한 값이다.  \n",
    "피보나치 수열은 앞의 2개 항의 값을 더해야 하므로 1번째 항과 2번째 항을 미리 초기화 시켜두고 3번째 항 부터 n번째 항 까지 합계를 계산한다.  \n",
    "한 번 반복이 된 후 다음 피보나치 수를 계산해야 하기 때문에 다음 연산을 위해서 n-2 번째 항의 값을 n-1 번째 항에 넣어주고 n-1 번째 항에 n번째 항의 값을 넣어준다."
   ]
  },
  {
   "cell_type": "code",
   "execution_count": null,
   "id": "2ad22b81",
   "metadata": {},
   "outputs": [],
   "source": [
    "a = 1\n",
    "b = 1\n",
    "y = 2\n",
    "n = int(input('피보나치 수열의 합계를 계산할 항을 입력하세요: '))\n",
    "for k in range(3, n + 1):\n",
    "    c = a + b\n",
    "    y += c\n",
    "    a = b\n",
    "    b = c\n",
    "print('피보나치 수열 {}번째 항 까지의 합계: {}'.format(n, y))"
   ]
  },
  {
   "cell_type": "markdown",
   "id": "a267fe3f",
   "metadata": {},
   "source": [
    "# 유클리드 호제법을 이용한 최대공약수와 최소공배수\n",
    "숫자 2개를 입력받아 큰수와 작은수를 구분한다.  \n",
    "큰수를 작은수로 나눠 떨어지면 작은수가 최대공약수가 되고 큰수를 작은수로 나눠 떨어지지 않으면 큰수를 기억하던 기억장소에 작은수를 넣어주고 작은수를 기억하던 기억장소에 나머지를 넣어준 후 계산을 반복한다.  \n",
    "최대공약수가 계산되면 입력받은 숫자 2개를 곱한 결과를 최대공약수로 나눠주면 최소공배수가 계산된다.  "
   ]
  },
  {
   "cell_type": "code",
   "execution_count": null,
   "id": "77ac1662",
   "metadata": {},
   "outputs": [],
   "source": [
    "a, b = map(int, input('숫자 2개를 입력하세요: ').split())\n",
    "r = 1\n",
    "if a > b:\n",
    "    high = a\n",
    "    low = b\n",
    "else:\n",
    "    low = b\n",
    "    high = a\n",
    "while r > 0:\n",
    "    r = high % low\n",
    "    high = low\n",
    "    low = r\n",
    "l = int(a * b // low)\n",
    "print('최대공약수: {}, 최소공배수: {}'.format(high, l))"
   ]
  },
  {
   "cell_type": "markdown",
   "id": "c7bffbfc",
   "metadata": {},
   "source": [
    "# 선택정렬의 반복 알고리즘을 이용한 석차 계산\n",
    "선택 정렬은 i번째 데이터를 선택해서 나머지 데이터(j번째)와 비교하며 정렬한다.  \n",
    "정렬할 데이터가 n개일 경우 회전수는 n-1번이 된다. => 데이터가 5개면 회전수는 4번이다.  \n",
    "i번째 성적이 크면 j번째 석차를 증가시킨다.  \n",
    "j번째 성적이 크면 i번째 석차를 증가시킨다."
   ]
  },
  {
   "cell_type": "code",
   "execution_count": null,
   "id": "c039a54f",
   "metadata": {},
   "outputs": [],
   "source": [
    "score = [70, 100, 80, 100, 90]\n",
    "rank = [i for i in range(len(score))]\n",
    "for i in range(len(score) - 1):\n",
    "    for j in range(i + 1, len(score)):\n",
    "        if score[i] > score[j]:\n",
    "            rank[j] += 1\n",
    "        elif score[i] < score[j]:\n",
    "            rank[i] += 1\n",
    "for i in range(len(score)):\n",
    "    print('{:3d}점은 {}등 입니다.'.format(score[i], rank[i]))"
   ]
  },
  {
   "cell_type": "code",
   "execution_count": null,
   "id": "4736a89f",
   "metadata": {},
   "outputs": [],
   "source": []
  },
  {
   "cell_type": "code",
   "execution_count": null,
   "id": "74ff0dbb",
   "metadata": {},
   "outputs": [],
   "source": []
  },
  {
   "cell_type": "code",
   "execution_count": null,
   "id": "9f607197",
   "metadata": {},
   "outputs": [],
   "source": []
  }
 ],
 "metadata": {
  "kernelspec": {
   "display_name": "Python 3",
   "language": "python",
   "name": "python3"
  },
  "language_info": {
   "codemirror_mode": {
    "name": "ipython",
    "version": 3
   },
   "file_extension": ".py",
   "mimetype": "text/x-python",
   "name": "python",
   "nbconvert_exporter": "python",
   "pygments_lexer": "ipython3",
   "version": "3.6.8"
  }
 },
 "nbformat": 4,
 "nbformat_minor": 5
}
