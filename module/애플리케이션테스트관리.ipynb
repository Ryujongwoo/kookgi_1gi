{
 "cells": [
  {
   "cell_type": "markdown",
   "id": "0638f822",
   "metadata": {},
   "source": [
    "# 문제 1\n",
    "# 마방진\n",
    "마방진: 가로, 세로, 대각선의 숫자 합이 모두 같은 배열로 홀수차 정방행렬(행과 열의 개수가 같은 행럴)만 가능하다.  \n",
    "최초의 '1'이 채워지는 자리는 첫 줄 정가운데 열이다.  \n",
    "직전에 채워진 숫자 값에 따라 다음에 채워질 숫자의 위치가 결정된다.  \n",
    "직전에 채워진 숫자가 행렬의 차수(n)의 배수면 다음 숫자는 아래줄에 채운다. => 행 + 1  \n",
    "직전에 채워진 숫자가 행렬의 차수(n)의 배수가 아니면 다음 숫자는 오른쪽 위 방향으로 채운다. => 행 - 1, 열 + 1  \n",
    "오른쪽 위 방향으로 숫자를 채우다 보면 배열의 인덱스 범위를 벗어나는 경우가 발생된다.  \n",
    "행이 0보다 작아지면 행의 위치를 마지막 행으로 변경한 후 채우고 열이 n이 되면 열의 위치를 0으로 변경한 후 채운다.  "
   ]
  },
  {
   "cell_type": "code",
   "execution_count": 1,
   "id": "43e36548",
   "metadata": {},
   "outputs": [
    {
     "name": "stdout",
     "output_type": "stream",
     "text": [
      "3이상인 홀수를 입력하세요: 11\n",
      " 68  81  94 107 120   1  14  27  40  53  66 \n",
      " 80  93 106 119  11  13  26  39  52  65  67 \n",
      " 92 105 118  10  12  25  38  51  64  77  79 \n",
      "104 117   9  22  24  37  50  63  76  78  91 \n",
      "116   8  21  23  36  49  62  75  88  90 103 \n",
      "  7  20  33  35  48  61  74  87  89 102 115 \n",
      " 19  32  34  47  60  73  86  99 101 114   6 \n",
      " 31  44  46  59  72  85  98 100 113   5  18 \n",
      " 43  45  58  71  84  97 110 112   4  17  30 \n",
      " 55  57  70  83  96 109 111   3  16  29  42 \n",
      " 56  69  82  95 108 121   2  15  28  41  54 \n"
     ]
    }
   ],
   "source": [
    "while True:\n",
    "    n = int(input('3이상인 홀수를 입력하세요: '))\n",
    "    if n >= 3 or n % 2 == 1:\n",
    "        break\n",
    "    print('3이상인 홀수를 입력해야합니다.')\n",
    "   \n",
    "a = [[0] * n for i in range(n)]\n",
    "i = 0\n",
    "j = n / 2\n",
    "for k in range(1, n ** 2 + 1):\n",
    "    a[i][j] = k\n",
    "    if k % n == 0:\n",
    "        i += 1\n",
    "    else:\n",
    "        i -= 1\n",
    "        if i < 0:\n",
    "            i = n - 1\n",
    "        j += 1\n",
    "        if j >= n:\n",
    "            j = 0\n",
    "\n",
    "for i in range(len(a)):\n",
    "    for j in range(len(a[0])):\n",
    "        print('{:3d} '.format(a[i][j]), end='')\n",
    "    print()"
   ]
  },
  {
   "cell_type": "markdown",
   "id": "036909d2",
   "metadata": {},
   "source": [
    "# 1번 정답"
   ]
  },
  {
   "cell_type": "markdown",
   "id": "65e99ea4",
   "metadata": {},
   "source": [
    "이곳에 정답을 적으시오"
   ]
  },
  {
   "cell_type": "markdown",
   "id": "06592fc1",
   "metadata": {},
   "source": [
    "# 문제 2"
   ]
  },
  {
   "cell_type": "code",
   "execution_count": null,
   "id": "eaf87350",
   "metadata": {},
   "outputs": [],
   "source": [
    "row, col = map(int, input('2차원 리스트를 만들려하는 행과 열의 개수: ').split())\n",
    "data = [[0] * col for i in range(row)]\n",
    "\n",
    "n = 0\n",
    "start = 0\n",
    "end = col - 1\n",
    "sw = 1\n",
    "\n",
    "for i in range(row):\n",
    "    for j in range(①, ②, ③):\n",
    "        n += 1\n",
    "        data[i][j] = n\n",
    "    ④\n",
    "    sw *= -1\n",
    "\n",
    "for i in range(len(data)):\n",
    "    for j in range(len(data[0])):\n",
    "        print('{:3d} '.format(data[i][j]), end='')\n",
    "    print()"
   ]
  },
  {
   "cell_type": "markdown",
   "id": "983a7a23",
   "metadata": {},
   "source": [
    "# 2번 정답"
   ]
  },
  {
   "cell_type": "markdown",
   "id": "d68ea588",
   "metadata": {},
   "source": [
    "이곳에 정답을 적으시오"
   ]
  },
  {
   "cell_type": "markdown",
   "id": "d9a88c40",
   "metadata": {},
   "source": [
    "# 문제 3"
   ]
  },
  {
   "cell_type": "code",
   "execution_count": null,
   "id": "2576f178",
   "metadata": {},
   "outputs": [],
   "source": [
    "a = [[0] * 5 for i in range(5)]\n",
    "n = 0\n",
    "s = 1\n",
    "i = 0\n",
    "j = -1 \n",
    "k = 5 \n",
    "\n",
    "while True:\n",
    "    for p in range(1, k + 1):\n",
    "        n += 1\n",
    "        j += s\n",
    "        a[i][j] = n\n",
    "    k -= 1\n",
    "    if k <= 0:\n",
    "        break\n",
    "    for p in range(1, k + 1):\n",
    "        n += 1\n",
    "        i += s\n",
    "        a[i][j] = n\n",
    "    s *= -1\n",
    "\n",
    "for i in range(len(a)):\n",
    "    for j in range(len(a[0])):\n",
    "        print('{:3d} '.format(a[i][j]), end='')\n",
    "    print()"
   ]
  },
  {
   "cell_type": "markdown",
   "id": "0c3335de",
   "metadata": {},
   "source": [
    "# 3번 정답"
   ]
  },
  {
   "cell_type": "markdown",
   "id": "83086b33",
   "metadata": {},
   "source": [
    "이곳에 안쪽부터 시작해서 3시 방향을 시작으로 하는 시계 방향으로 숫자를 채우는 소스 코드를 작성하시오"
   ]
  },
  {
   "cell_type": "markdown",
   "id": "9e7cc912",
   "metadata": {},
   "source": [
    "이곳에 안쪽부터 시작해서 9시 방향을 시작으로 하는 시계 방향으로 숫자를 채우는 소스 코드를 작성하시오"
   ]
  },
  {
   "cell_type": "code",
   "execution_count": null,
   "id": "3a57bb69",
   "metadata": {},
   "outputs": [],
   "source": []
  }
 ],
 "metadata": {
  "kernelspec": {
   "display_name": "Python 3",
   "language": "python",
   "name": "python3"
  },
  "language_info": {
   "codemirror_mode": {
    "name": "ipython",
    "version": 3
   },
   "file_extension": ".py",
   "mimetype": "text/x-python",
   "name": "python",
   "nbconvert_exporter": "python",
   "pygments_lexer": "ipython3",
   "version": "3.6.8"
  }
 },
 "nbformat": 4,
 "nbformat_minor": 5
}
