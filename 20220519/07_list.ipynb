{
 "cells": [
  {
   "cell_type": "markdown",
   "id": "9fa0d56d",
   "metadata": {},
   "source": [
    "# 리스트 만들기\n",
    "리스트는 데이터를 []로 감싸주고 데이터는 ','로 구분한다."
   ]
  },
  {
   "cell_type": "code",
   "execution_count": 3,
   "id": "d92cc9b9",
   "metadata": {},
   "outputs": [
    {
     "name": "stdout",
     "output_type": "stream",
     "text": [
      "<class 'list'>\n",
      "[]\n",
      "<class 'list'>\n",
      "[]\n"
     ]
    }
   ],
   "source": [
    "# 빈 리스트 만들기\n",
    "a = []\n",
    "print(type(a))\n",
    "print(a)\n",
    "# 빈 리스트는 생성자 함수를 사용해서도 만들 수 있다.\n",
    "b = list()\n",
    "print(type(b))\n",
    "print(b)"
   ]
  },
  {
   "cell_type": "code",
   "execution_count": 9,
   "id": "0e2a0564",
   "metadata": {},
   "outputs": [
    {
     "name": "stdout",
     "output_type": "stream",
     "text": [
      "[1, 2, 3]\n",
      "['a', 'b', 'c']\n",
      "[100, 'aaa', 200, 'bbb']\n",
      "[100, 'aaa', [200, 'bbb']]\n"
     ]
    }
   ],
   "source": [
    "# 초기치를 가지는 리스트\n",
    "c = [1, 2, 3]\n",
    "print(c)\n",
    "d = ['a', 'b', 'c']\n",
    "print(d)\n",
    "e = [100, 'aaa', 200, 'bbb']\n",
    "print(e)\n",
    "f = [100, 'aaa', [200, 'bbb']] # 데이터 요소로 리스트를 가지는 리스트 => 2차원 리스트\n",
    "print(f)"
   ]
  },
  {
   "cell_type": "markdown",
   "id": "8ba28a35",
   "metadata": {},
   "source": [
    "리스트 인덱싱"
   ]
  },
  {
   "cell_type": "code",
   "execution_count": 16,
   "id": "acdd85e3",
   "metadata": {},
   "outputs": [
    {
     "name": "stdout",
     "output_type": "stream",
     "text": [
      "[1, 2, 3]\n",
      "<class 'list'>\n",
      "1\n",
      "<class 'int'>\n",
      "4\n",
      "3\n"
     ]
    }
   ],
   "source": [
    "a = [1, 2, 3]\n",
    "print(a) # 리스트 이름은 리스트 전체를 의미한다.\n",
    "print(type(a))\n",
    "print(a[0])\n",
    "print(type(a[0]))\n",
    "print(a[0] + a[2])\n",
    "print(a[-1])"
   ]
  },
  {
   "cell_type": "code",
   "execution_count": 21,
   "id": "1c2cba37",
   "metadata": {},
   "outputs": [
    {
     "name": "stdout",
     "output_type": "stream",
     "text": [
      "[1, 2, 3, ['a', 'b', 'c']]\n",
      "4\n",
      "['a', 'b', 'c']\n",
      "['a', 'b', 'c']\n",
      "b\n"
     ]
    }
   ],
   "source": [
    "a = [1, 2, 3, ['a', 'b', 'c']]\n",
    "print(a)\n",
    "print(len(a)) # len() 함수로 리스트를 구성하는 데이터 요소의 개수를 얻어올 수 있다.\n",
    "print(a[3])\n",
    "print(a[-1])\n",
    "print(a[3][1]) # 2차원 인덱싱"
   ]
  },
  {
   "cell_type": "code",
   "execution_count": 26,
   "id": "f8dc445a",
   "metadata": {},
   "outputs": [
    {
     "name": "stdout",
     "output_type": "stream",
     "text": [
      "[1, 2, ['a', 'b', [True, 3.14]]]\n",
      "['a', 'b', [True, 3.14]]\n",
      "[True, 3.14]\n",
      "True\n"
     ]
    }
   ],
   "source": [
    "a = [1, 2, ['a', 'b', [True, 3.14]]]\n",
    "print(a)\n",
    "print(a[2])\n",
    "print(a[2][2])\n",
    "print(a[2][2][0]) # 3차원 인덱싱"
   ]
  },
  {
   "cell_type": "markdown",
   "id": "c47fc6f5",
   "metadata": {},
   "source": [
    "리스트 슬라이싱"
   ]
  },
  {
   "cell_type": "code",
   "execution_count": 36,
   "id": "03ea4c90",
   "metadata": {},
   "outputs": [
    {
     "name": "stdout",
     "output_type": "stream",
     "text": [
      "[1, 2, 3, 4, 5]\n",
      "1\n",
      "[1]\n",
      "[1, 2, 3]\n",
      "[3, 4, 5]\n",
      "[1, 2, 3, 4, 5]\n",
      "[1, 3, 5]\n",
      "[5, 4, 3, 2, 1]\n"
     ]
    }
   ],
   "source": [
    "a = [1, 2, 3, 4, 5]\n",
    "print(a)\n",
    "print(a[0]) # 인덱싱 되는 데이터 요소가 상수면 상수로 리턴된다.\n",
    "print(a[0:1]) # 슬라이싱되는 데이터는 상수라도 리스트로 리턴된다.\n",
    "print(a[:3])\n",
    "print(a[2:])\n",
    "print(a[:])\n",
    "print(a[::2])\n",
    "print(a[::-1])"
   ]
  },
  {
   "cell_type": "markdown",
   "id": "e510c285",
   "metadata": {},
   "source": [
    "리스트 연산자 => '+'는 2개의 리스트를 연결하고 '*'는 리스트를 지정된 횟수만큼 반복한다."
   ]
  },
  {
   "cell_type": "code",
   "execution_count": 39,
   "id": "bb4b2633",
   "metadata": {},
   "outputs": [
    {
     "name": "stdout",
     "output_type": "stream",
     "text": [
      "[1, 2, 3, 4, 5, 6, 7]\n",
      "[1, 2, 3, 1, 2, 3, 1, 2, 3]\n"
     ]
    }
   ],
   "source": [
    "a = [1, 2, 3]\n",
    "b = [4, 5, 6, 7]\n",
    "print(a + b)\n",
    "print(a * 3)"
   ]
  },
  {
   "cell_type": "markdown",
   "id": "197cb505",
   "metadata": {},
   "source": [
    "리스트 데이터 요소의 수정 및 삭제"
   ]
  },
  {
   "cell_type": "code",
   "execution_count": 50,
   "id": "17b5d673",
   "metadata": {},
   "outputs": [
    {
     "name": "stdout",
     "output_type": "stream",
     "text": [
      "abcde\n",
      "<class 'str'>\n",
      "c\n",
      "abCde\n",
      "abde\n",
      "abCde\n",
      "abde\n"
     ]
    }
   ],
   "source": [
    "string = 'abcde'\n",
    "print(string)\n",
    "print(type(string))\n",
    "print(string[2])\n",
    "# 문자열 데이터의 일부분을 수정하려 하면 에러가 발생된다.\n",
    "# string[2] = 'C'\n",
    "# 문자열 데이터의 일부분을 삭제하려 하면 에러가 발생된다.\n",
    "# del string[2]\n",
    "# 문자열 데이터의 일부분을 수정 또는 삭제하는 효과를 내려면 replace() 메소드를 사용하면 된다.\n",
    "print(string.replace('c', 'C'))\n",
    "print(string.replace('c', ''))\n",
    "# 특정 위치를 수정 또는 삭제하는 효과를 내려면 아래와 같이 슬라이싱을 사용하면 된다.\n",
    "print(string[:2] + 'C' + string[3:])\n",
    "print(string[:2] + string[3:])\n",
    "del string"
   ]
  },
  {
   "cell_type": "code",
   "execution_count": 56,
   "id": "5014ba25",
   "metadata": {},
   "outputs": [
    {
     "name": "stdout",
     "output_type": "stream",
     "text": [
      "[1, 2, 3]\n",
      "[1, 4, 3]\n",
      "[[100, 200, 300], 4, 3]\n",
      "[[100, 200, 300], 4, 'a', 'b', 'c']\n"
     ]
    }
   ],
   "source": [
    "a = [1, 2, 3]\n",
    "print(a)\n",
    "# 인덱싱을 이용한 데이터 수정, 수정할 리스트의 인덱스 번째 요소에 값을 대입하면 된다.\n",
    "a[1] = 4\n",
    "print(a)\n",
    "# 인덱싱을 이용해 특정 인덱스 위치에 리스트를 대입하면 리스트 자체가 대입된다.\n",
    "a[0] = [100, 200, 300]\n",
    "print(a)\n",
    "# 슬라이싱을 이용해 특정 인덱스 범위에 리스트를 대입하면 대입하는 리스트의 데이터만 대입된다.\n",
    "a[2:3] = ['a', 'b', 'c']\n",
    "print(a)\n",
    "# 슬라이싱을 이용해 특정 인덱스 범위에 상수를 대입하면 에러가 발생된다.\n",
    "# a[1:2] = 999"
   ]
  },
  {
   "cell_type": "code",
   "execution_count": 61,
   "id": "3be7869e",
   "metadata": {},
   "outputs": [
    {
     "name": "stdout",
     "output_type": "stream",
     "text": [
      "[1, 2, 3, 4, 5]\n",
      "[1, 3, 4, 5]\n",
      "[1, 5]\n",
      "[]\n"
     ]
    },
    {
     "ename": "NameError",
     "evalue": "name 'a' is not defined",
     "output_type": "error",
     "traceback": [
      "\u001b[1;31m---------------------------------------------------------------------------\u001b[0m",
      "\u001b[1;31mNameError\u001b[0m                                 Traceback (most recent call last)",
      "Input \u001b[1;32mIn [61]\u001b[0m, in \u001b[0;36m<cell line: 14>\u001b[1;34m()\u001b[0m\n\u001b[0;32m     12\u001b[0m \u001b[38;5;66;03m# del 명령으로 리스트 자체를 삭제할 수 있다.\u001b[39;00m\n\u001b[0;32m     13\u001b[0m \u001b[38;5;28;01mdel\u001b[39;00m a\n\u001b[1;32m---> 14\u001b[0m \u001b[38;5;28mprint\u001b[39m(\u001b[43ma\u001b[49m)\n",
      "\u001b[1;31mNameError\u001b[0m: name 'a' is not defined"
     ]
    }
   ],
   "source": [
    "a = [1, 2, 3, 4, 5]\n",
    "print(a)\n",
    "# del 명령으로 인덱싱된 리스트의 데이터를 삭제할 수 있다.\n",
    "del a[1]\n",
    "print(a)\n",
    "# del 명령으로 슬라이싱된 리스트의 데이터를 삭제할 수 있다.\n",
    "del a[1:3]\n",
    "print(a)\n",
    "# clear() 메소드를 사용하면 리스트의 모든 데이터를 삭제할 수 있다.\n",
    "a.clear()\n",
    "print(a)\n",
    "# del 명령으로 리스트 자체를 삭제할 수 있다.\n",
    "del a\n",
    "print(a)"
   ]
  },
  {
   "cell_type": "code",
   "execution_count": null,
   "id": "25407618",
   "metadata": {},
   "outputs": [],
   "source": []
  },
  {
   "cell_type": "code",
   "execution_count": null,
   "id": "5f85d29f",
   "metadata": {},
   "outputs": [],
   "source": []
  },
  {
   "cell_type": "code",
   "execution_count": null,
   "id": "bcef3a52",
   "metadata": {},
   "outputs": [],
   "source": []
  }
 ],
 "metadata": {
  "kernelspec": {
   "display_name": "Python 3 (ipykernel)",
   "language": "python",
   "name": "python3"
  },
  "language_info": {
   "codemirror_mode": {
    "name": "ipython",
    "version": 3
   },
   "file_extension": ".py",
   "mimetype": "text/x-python",
   "name": "python",
   "nbconvert_exporter": "python",
   "pygments_lexer": "ipython3",
   "version": "3.10.4"
  }
 },
 "nbformat": 4,
 "nbformat_minor": 5
}
