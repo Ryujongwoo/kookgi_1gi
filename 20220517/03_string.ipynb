{
 "cells": [
  {
   "cell_type": "code",
   "execution_count": 4,
   "id": "1346c648",
   "metadata": {},
   "outputs": [
    {
     "name": "stdout",
     "output_type": "stream",
     "text": [
      "Hello\n",
      "World\n",
      "Python\n",
      "in\n",
      "Good\n"
     ]
    }
   ],
   "source": [
    "# 큰따옴표나 작은따옴표로 묶어주면 문자열 데이터로 취급된다.\n",
    "memo = 'Hello\\nWorld'\n",
    "print(memo)\n",
    "memo = \"Python\\nin\\nGood\"\n",
    "print(memo)"
   ]
  },
  {
   "cell_type": "code",
   "execution_count": 6,
   "id": "8c93501c",
   "metadata": {},
   "outputs": [
    {
     "name": "stdout",
     "output_type": "stream",
     "text": [
      "개울가에\n",
      "올챙이 한마리\n",
      "꼬물꼬물 헤엄치다\n",
      "앞다리가 쏘옥\n",
      "뒷다리가 쑤욱\n",
      "팔딱팔딱 메뚜기됬네\n"
     ]
    }
   ],
   "source": [
    "# 큰따옴표 3개를 연속해서 사용하면 개행문자(\\n)를 사용하지 않고 여러줄 문자열을 만들 수 있다.\n",
    "memo = \"\"\"개울가에\n",
    "올챙이 한마리\n",
    "꼬물꼬물 헤엄치다\n",
    "앞다리가 쏘옥\n",
    "뒷다리가 쑤욱\n",
    "팔딱팔딱 메뚜기됬네\"\"\"\n",
    "print(memo)"
   ]
  },
  {
   "cell_type": "markdown",
   "id": "dd1a094a",
   "metadata": {},
   "source": [
    "# 인덱싱과 슬라이싱\n",
    "인덱스는 0부터 시작된다.  \n",
    "인덱싱: 문자열에서 특정 위치의 문자 1개를 얻어온다. => []에 인덱스를 지정하면 된다. => charAt()  \n",
    "슬라이싱: 문자열에서 지정된 범위의 문자열을 얻어온다. => [시작위치:끝위치] 형태로 범위를 지정하면  \n",
    "된다. => substring()"
   ]
  },
  {
   "cell_type": "code",
   "execution_count": 18,
   "id": "351812c6",
   "metadata": {},
   "outputs": [
    {
     "name": "stdout",
     "output_type": "stream",
     "text": [
      "We are the champions, My friends!\n",
      "W\n",
      "c\n",
      "!\n",
      "33\n",
      "!\n",
      "!\n",
      "s\n"
     ]
    }
   ],
   "source": [
    "string = 'We are the champions, My friends!'\n",
    "print(string)\n",
    "print(string[0])\n",
    "print(string[11])\n",
    "print(string[32])\n",
    "# len() 함수로 문자열을 구성하는 문자의 개수를 얻어올 수 있다. => length()\n",
    "print(len(string))\n",
    "print(string[len(string) - 1])\n",
    "# 파이썬은 음수 인덱싱이 가능하다. => 인덱스를 지정할 때 '-'를 붙이면 맨 뒤 부터 인덱싱 할 수 있다.\n",
    "print(string[-1])\n",
    "print(string[-2])"
   ]
  },
  {
   "cell_type": "code",
   "execution_count": 27,
   "id": "cd4ff69d",
   "metadata": {},
   "outputs": [
    {
     "name": "stdout",
     "output_type": "stream",
     "text": [
      "We\n",
      "champions\n",
      "We are the champions\n",
      "We are the champions\n",
      "My friends!\n",
      "My friends!\n",
      "\n",
      "We are the champions, My friends!\n"
     ]
    }
   ],
   "source": [
    "string = 'We are the champions, My friends!'\n",
    "# 슬라이싱 범위는 [시작위치:끝위치] 형태로 지정하며 시작 위치부터 끝 위치 - 1번째 문자까지 얻어온다.\n",
    "print(string[0:2])\n",
    "print(string[11:20])\n",
    "# 시작 위치를 생략하면 처음부터 슬라이싱하고 끝 위치를 생략하면 마지막까지 슬라이싱 한다.\n",
    "print(string[0:20])\n",
    "print(string[:20])\n",
    "print(string[22:33])\n",
    "print(string[22:])\n",
    "# 슬라이싱은 왼쪽에서 오른쪽으로 실행되므로 시작 위치가 끝 위치보다 크면 안된다.\n",
    "print(string[22:0]) # 에러는 발생되지 않지만 얻어온 문자열이 없으므로 공백이 출력된다.\n",
    "print(string[:])"
   ]
  },
  {
   "cell_type": "code",
   "execution_count": 32,
   "id": "134950ad",
   "metadata": {},
   "outputs": [
    {
     "name": "stdout",
     "output_type": "stream",
     "text": [
      "1234567890\n",
      "1234567890\n",
      "13579\n",
      "24680\n",
      "0987654321\n"
     ]
    }
   ],
   "source": [
    "string = '1234567890'\n",
    "print(string[:])\n",
    "# [시작위치:끝위치:증가치] 형태로 사용하면 시작 위치부터 끝 위치까지 증가치만큼 건너뛰며 슬라이싱\n",
    "# 한다. => 증가치는 생략하면 1이 기본값으로 사용된다.\n",
    "print(string[::1])\n",
    "print(string[::2])\n",
    "print(string[1::2])\n",
    "print(string[::-1]) # 증가치를 -1로 지정하면 문자열이 뒤집힌다."
   ]
  },
  {
   "cell_type": "code",
   "execution_count": null,
   "id": "8d5f4dd0",
   "metadata": {},
   "outputs": [],
   "source": []
  },
  {
   "cell_type": "code",
   "execution_count": null,
   "id": "2601525c",
   "metadata": {},
   "outputs": [],
   "source": []
  },
  {
   "cell_type": "code",
   "execution_count": null,
   "id": "82ad6ef2",
   "metadata": {},
   "outputs": [],
   "source": []
  },
  {
   "cell_type": "code",
   "execution_count": null,
   "id": "da1b8a94",
   "metadata": {},
   "outputs": [],
   "source": []
  }
 ],
 "metadata": {
  "kernelspec": {
   "display_name": "Python 3 (ipykernel)",
   "language": "python",
   "name": "python3"
  },
  "language_info": {
   "codemirror_mode": {
    "name": "ipython",
    "version": 3
   },
   "file_extension": ".py",
   "mimetype": "text/x-python",
   "name": "python",
   "nbconvert_exporter": "python",
   "pygments_lexer": "ipython3",
   "version": "3.10.4"
  }
 },
 "nbformat": 4,
 "nbformat_minor": 5
}
