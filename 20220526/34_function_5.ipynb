{
 "cells": [
  {
   "cell_type": "code",
   "execution_count": 1,
   "id": "faf66891",
   "metadata": {},
   "outputs": [],
   "source": [
    "# 디폴트 인수를 사용하는 함수로 가변 인자를 가지는 함수를 흉내낼 수 있지만 인수의 개수가 많아지면 비효율적이다.\n",
    "def func6(a = 0, b = 0, c = 0, d = 0, e = 0, f = 0, g = 0):\n",
    "    print('{}'.format(a + b + c + d + e + f + g))"
   ]
  },
  {
   "cell_type": "code",
   "execution_count": 8,
   "id": "3c9b1acb",
   "metadata": {},
   "outputs": [
    {
     "name": "stdout",
     "output_type": "stream",
     "text": [
      "0\n",
      "1\n",
      "3\n",
      "6\n",
      "10\n",
      "15\n",
      "21\n",
      "28\n"
     ]
    },
    {
     "ename": "TypeError",
     "evalue": "func6() takes from 0 to 7 positional arguments but 8 were given",
     "output_type": "error",
     "traceback": [
      "\u001b[1;31m---------------------------------------------------------------------------\u001b[0m",
      "\u001b[1;31mTypeError\u001b[0m                                 Traceback (most recent call last)",
      "Input \u001b[1;32mIn [8]\u001b[0m, in \u001b[0;36m<cell line: 9>\u001b[1;34m()\u001b[0m\n\u001b[0;32m      7\u001b[0m func6(\u001b[38;5;241m1\u001b[39m, \u001b[38;5;241m2\u001b[39m, \u001b[38;5;241m3\u001b[39m, \u001b[38;5;241m4\u001b[39m, \u001b[38;5;241m5\u001b[39m, \u001b[38;5;241m6\u001b[39m)\n\u001b[0;32m      8\u001b[0m func6(\u001b[38;5;241m1\u001b[39m, \u001b[38;5;241m2\u001b[39m, \u001b[38;5;241m3\u001b[39m, \u001b[38;5;241m4\u001b[39m, \u001b[38;5;241m5\u001b[39m, \u001b[38;5;241m6\u001b[39m, \u001b[38;5;241m7\u001b[39m)\n\u001b[1;32m----> 9\u001b[0m \u001b[43mfunc6\u001b[49m\u001b[43m(\u001b[49m\u001b[38;5;241;43m1\u001b[39;49m\u001b[43m,\u001b[49m\u001b[43m \u001b[49m\u001b[38;5;241;43m2\u001b[39;49m\u001b[43m,\u001b[49m\u001b[43m \u001b[49m\u001b[38;5;241;43m3\u001b[39;49m\u001b[43m,\u001b[49m\u001b[43m \u001b[49m\u001b[38;5;241;43m4\u001b[39;49m\u001b[43m,\u001b[49m\u001b[43m \u001b[49m\u001b[38;5;241;43m5\u001b[39;49m\u001b[43m,\u001b[49m\u001b[43m \u001b[49m\u001b[38;5;241;43m6\u001b[39;49m\u001b[43m,\u001b[49m\u001b[43m \u001b[49m\u001b[38;5;241;43m7\u001b[39;49m\u001b[43m,\u001b[49m\u001b[43m \u001b[49m\u001b[38;5;241;43m8\u001b[39;49m\u001b[43m)\u001b[49m\n",
      "\u001b[1;31mTypeError\u001b[0m: func6() takes from 0 to 7 positional arguments but 8 were given"
     ]
    }
   ],
   "source": [
    "func6()\n",
    "func6(1)\n",
    "func6(1, 2)\n",
    "func6(1, 2, 3)\n",
    "func6(1, 2, 3, 4)\n",
    "func6(1, 2, 3, 4, 5)\n",
    "func6(1, 2, 3, 4, 5, 6)\n",
    "func6(1, 2, 3, 4, 5, 6, 7)\n",
    "func6(1, 2, 3, 4, 5, 6, 7, 8) # 8때문에 에러"
   ]
  },
  {
   "cell_type": "code",
   "execution_count": 23,
   "id": "2bf757f2",
   "metadata": {},
   "outputs": [],
   "source": [
    "# 가변 인자를 가지는 함수 => 가변 인자는 '*변수이름' 형태로 표현한다. => 가변 인자로 넘어오는 데이터는 튜플로 받는다.\n",
    "# 가변 인자를 사용하면 가변 인자에 할당할 메모리 크기를 모르기 때문에 가변 인자는 인수 목록의 맨 마지막에 딱 1번만\n",
    "# 사용할 수 있다.\n",
    "def func7(*args):\n",
    "    # print(type(args))\n",
    "    # print(args)\n",
    "    total = 0\n",
    "    for arg in args:\n",
    "        total += arg\n",
    "    print(total)"
   ]
  },
  {
   "cell_type": "code",
   "execution_count": 24,
   "id": "9b4f327b",
   "metadata": {},
   "outputs": [
    {
     "name": "stdout",
     "output_type": "stream",
     "text": [
      "0\n",
      "1\n",
      "3\n",
      "6\n",
      "10\n",
      "15\n",
      "21\n",
      "28\n",
      "36\n",
      "120\n"
     ]
    }
   ],
   "source": [
    "func7()\n",
    "func7(1)\n",
    "func7(1, 2)\n",
    "func7(1, 2, 3)\n",
    "func7(1, 2, 3, 4)\n",
    "func7(1, 2, 3, 4, 5)\n",
    "func7(1, 2, 3, 4, 5, 6)\n",
    "func7(1, 2, 3, 4, 5, 6, 7)\n",
    "func7(1, 2, 3, 4, 5, 6, 7, 8)\n",
    "func7(1, 2, 3, 4, 5, 6, 7, 8, 9, 10, 11, 12, 13, 14, 15)"
   ]
  },
  {
   "cell_type": "code",
   "execution_count": null,
   "id": "ebc74d10",
   "metadata": {},
   "outputs": [],
   "source": []
  },
  {
   "cell_type": "code",
   "execution_count": null,
   "id": "9b126091",
   "metadata": {},
   "outputs": [],
   "source": []
  },
  {
   "cell_type": "code",
   "execution_count": null,
   "id": "add35197",
   "metadata": {},
   "outputs": [],
   "source": []
  },
  {
   "cell_type": "code",
   "execution_count": null,
   "id": "1cf396b4",
   "metadata": {},
   "outputs": [],
   "source": []
  }
 ],
 "metadata": {
  "kernelspec": {
   "display_name": "Python 3 (ipykernel)",
   "language": "python",
   "name": "python3"
  },
  "language_info": {
   "codemirror_mode": {
    "name": "ipython",
    "version": 3
   },
   "file_extension": ".py",
   "mimetype": "text/x-python",
   "name": "python",
   "nbconvert_exporter": "python",
   "pygments_lexer": "ipython3",
   "version": "3.10.4"
  }
 },
 "nbformat": 4,
 "nbformat_minor": 5
}
