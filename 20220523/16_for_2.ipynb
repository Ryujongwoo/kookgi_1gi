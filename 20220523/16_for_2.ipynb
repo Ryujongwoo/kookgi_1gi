{
 "cells": [
  {
   "cell_type": "markdown",
   "id": "0b2b1b8d",
   "metadata": {},
   "source": [
    "리스트, 튜플, 딕셔너리, set과 함께 사용하는 for  \n",
    "리스트, 튜플, 딕셔너리, set의 0번째 인덱스 값을 변수에 저장하고 반복을 시작하고 마지막 값을 변수에 저장하고 반복한 후  \n",
    "종료한다.\n",
    "***\n",
    "for 변수 in 리스트 or 튜플 or 딕셔너리 or set의 이름: # 인덱싱과 슬라이싱도 가능하다.  \n",
    "&nbsp;&nbsp;&nbsp;&nbsp;반복할 문장  \n",
    "&nbsp;&nbsp;&nbsp;&nbsp;..."
   ]
  },
  {
   "cell_type": "code",
   "execution_count": 7,
   "id": "562a5937",
   "metadata": {},
   "outputs": [
    {
     "name": "stdout",
     "output_type": "stream",
     "text": [
      "['Life', 'is', 'too', 'Good']\n",
      "================================================================================\n",
      "Life\n",
      "is\n",
      "too\n",
      "Good\n",
      "================================================================================\n",
      "Life\n",
      "is\n",
      "too\n",
      "Good\n",
      "================================================================================\n",
      "is\n",
      "too\n",
      "================================================================================\n"
     ]
    }
   ],
   "source": [
    "# 리스트와 함께 사용하는 for\n",
    "a = ['Life', 'is', 'too', 'Good']\n",
    "print(a)\n",
    "print('=' * 80)\n",
    "\n",
    "for i in a:\n",
    "    print(i)\n",
    "print('=' * 80)\n",
    "\n",
    "for i in range(len(a)):\n",
    "    print(a[i])\n",
    "print('=' * 80)\n",
    "\n",
    "for i in a[1:3]:\n",
    "    print(i)"
   ]
  },
  {
   "cell_type": "code",
   "execution_count": 8,
   "id": "b027f296",
   "metadata": {},
   "outputs": [
    {
     "name": "stdout",
     "output_type": "stream",
     "text": [
      "('Life', 'is', 'too', 'Good')\n",
      "================================================================================\n",
      "Life\n",
      "is\n",
      "too\n",
      "Good\n",
      "================================================================================\n",
      "Life\n",
      "is\n",
      "too\n",
      "Good\n",
      "================================================================================\n",
      "is\n",
      "too\n",
      "================================================================================\n"
     ]
    }
   ],
   "source": [
    "# 튜플과 함께 사용하는 for\n",
    "a = 'Life', 'is', 'too', 'Good'\n",
    "print(a)\n",
    "print('=' * 80)\n",
    "\n",
    "for i in a:\n",
    "    print(i)\n",
    "print('=' * 80)\n",
    "\n",
    "for i in range(len(a)):\n",
    "    print(a[i])\n",
    "print('=' * 80)\n",
    "\n",
    "for i in a[1:3]:\n",
    "    print(i)"
   ]
  },
  {
   "cell_type": "code",
   "execution_count": 12,
   "id": "9643260a",
   "metadata": {},
   "outputs": [
    {
     "name": "stdout",
     "output_type": "stream",
     "text": [
      "{'too', 'is', 'Good', 'Life'}\n",
      "================================================================================\n",
      "too\n",
      "is\n",
      "Good\n",
      "Life\n",
      "================================================================================\n"
     ]
    }
   ],
   "source": [
    "# set과 함께 사용하는 for\n",
    "a = {'Life', 'is', 'too', 'Good'}\n",
    "print(a)\n",
    "print('=' * 80)\n",
    "\n",
    "for i in a:\n",
    "    print(i)\n",
    "print('=' * 80)\n",
    "\n",
    "'''\n",
    "for i in range(len(a)):\n",
    "    print(a[i]) # set은 입력되는 순서와 저장되는 순서가 달라서 인덱싱을 사용할 수 없으므로 에러가 발생된다.\n",
    "print('=' * 80)\n",
    "\n",
    "for i in a[1:3]: # set은 입력되는 순서와 저장되는 순서가 달라서 슬라이싱을 사용할 수 없으므로 에러가 발생된다.\n",
    "    print(i)\n",
    "'''\n",
    "pass"
   ]
  },
  {
   "cell_type": "code",
   "execution_count": 14,
   "id": "bbb5f642",
   "metadata": {},
   "outputs": [
    {
     "name": "stdout",
     "output_type": "stream",
     "text": [
      "{'apple': 1000, 'banana': 3500, 'melon': 10000, 'mango': 5000}\n",
      "dict_keys(['apple', 'banana', 'melon', 'mango'])\n",
      "dict_values([1000, 3500, 10000, 5000])\n",
      "dict_items([('apple', 1000), ('banana', 3500), ('melon', 10000), ('mango', 5000)])\n"
     ]
    }
   ],
   "source": [
    "# 딕셔너리와 함께 사용하는 for\n",
    "a = {'apple': 1000, 'banana': 3500, 'melon': 10000, 'mango': 5000}\n",
    "print(a)\n",
    "print(a.keys())\n",
    "print(a.values())\n",
    "print(a.items())"
   ]
  },
  {
   "cell_type": "code",
   "execution_count": 19,
   "id": "0798acd6",
   "metadata": {},
   "outputs": [
    {
     "name": "stdout",
     "output_type": "stream",
     "text": [
      "apple\n",
      "banana\n",
      "melon\n",
      "mango\n",
      "================================================================================\n",
      "apple\n",
      "banana\n",
      "melon\n",
      "mango\n",
      "================================================================================\n",
      "1000\n",
      "3500\n",
      "10000\n",
      "5000\n",
      "================================================================================\n",
      "1000\n",
      "3500\n",
      "10000\n",
      "5000\n"
     ]
    }
   ],
   "source": [
    "for key in a: # 딕셔너리 이름만 쓰면 딕셔너리이름.keys()와 같은 의미로 사용된다.\n",
    "    print(key)\n",
    "print('=' * 80)\n",
    "\n",
    "for key in a.keys():\n",
    "    print(key)\n",
    "print('=' * 80)\n",
    "\n",
    "# 딕셔너리의 key 값을 이용해서 value 얻어오기\n",
    "for key in a.keys():\n",
    "    print(a[key])\n",
    "print('=' * 80)\n",
    "\n",
    "for key in a.keys():\n",
    "    print(a.get(key))"
   ]
  },
  {
   "cell_type": "code",
   "execution_count": 21,
   "id": "0743ee91",
   "metadata": {},
   "outputs": [
    {
     "name": "stdout",
     "output_type": "stream",
     "text": [
      "1000\n",
      "3500\n",
      "10000\n",
      "5000\n"
     ]
    }
   ],
   "source": [
    "for value in a.values():\n",
    "    print(value)"
   ]
  },
  {
   "cell_type": "code",
   "execution_count": 29,
   "id": "8257f973",
   "metadata": {},
   "outputs": [
    {
     "name": "stdout",
     "output_type": "stream",
     "text": [
      "('apple', 1000)\n",
      "('banana', 3500)\n",
      "('melon', 10000)\n",
      "('mango', 5000)\n",
      "================================================================================\n",
      "apple은(는) 1,000원 입니다.\n",
      "banana은(는) 3,500원 입니다.\n",
      "melon은(는) 10,000원 입니다.\n",
      "mango은(는) 5,000원 입니다.\n",
      "================================================================================\n",
      "apple은(는) 1,000원 입니다.\n",
      "banana은(는) 3,500원 입니다.\n",
      "melon은(는) 10,000원 입니다.\n",
      "mango은(는) 5,000원 입니다.\n"
     ]
    }
   ],
   "source": [
    "for item in a.items():\n",
    "    print(item)\n",
    "print('=' * 80)\n",
    "\n",
    "# apple은 1,000원 입니다.\n",
    "for item in a.items():\n",
    "    print('{}은(는) {:,}원 입니다.'.format(item[0], item[1]))\n",
    "print('=' * 80)\n",
    "\n",
    "for key, value in a.items():\n",
    "    print('{}은(는) {:,}원 입니다.'.format(key, value))"
   ]
  },
  {
   "cell_type": "code",
   "execution_count": null,
   "id": "c50d0908",
   "metadata": {},
   "outputs": [],
   "source": []
  },
  {
   "cell_type": "code",
   "execution_count": null,
   "id": "59a89727",
   "metadata": {},
   "outputs": [],
   "source": []
  },
  {
   "cell_type": "code",
   "execution_count": null,
   "id": "4f583448",
   "metadata": {},
   "outputs": [],
   "source": []
  }
 ],
 "metadata": {
  "kernelspec": {
   "display_name": "Python 3 (ipykernel)",
   "language": "python",
   "name": "python3"
  },
  "language_info": {
   "codemirror_mode": {
    "name": "ipython",
    "version": 3
   },
   "file_extension": ".py",
   "mimetype": "text/x-python",
   "name": "python",
   "nbconvert_exporter": "python",
   "pygments_lexer": "ipython3",
   "version": "3.10.4"
  }
 },
 "nbformat": 4,
 "nbformat_minor": 5
}
