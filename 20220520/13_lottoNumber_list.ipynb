{
 "cells": [
  {
   "cell_type": "code",
   "execution_count": 1,
   "id": "70de44d3",
   "metadata": {},
   "outputs": [],
   "source": [
    "import random"
   ]
  },
  {
   "cell_type": "code",
   "execution_count": 109,
   "id": "5684e077",
   "metadata": {},
   "outputs": [
    {
     "name": "stdout",
     "output_type": "stream",
     "text": [
      "1등 번호: [1, 8, 15, 28, 36, 40], 보너스 번호: 13\n"
     ]
    }
   ],
   "source": [
    "# 로또 번호를 기억할 빈 리스트를 만든다.\n",
    "lotto = list()\n",
    "# 1등 번호\n",
    "while True:\n",
    "    # 1 ~ 45 사이의 난수를 발생시킨다.\n",
    "    number = random.randrange(1, 46)\n",
    "    # print(number)\n",
    "    # 리스트에 중복되는 번호가 없으면 발생된 난수를 리스트에 추가한다.\n",
    "    if number not in lotto:\n",
    "        lotto.append(number)\n",
    "    # ===== if\n",
    "    # 리스트에 숫자가 6개 저장되면 무한 루프를 탈출시킨다.\n",
    "    if len(lotto) == 6:\n",
    "        break\n",
    "    # ===== if\n",
    "# ===== while\n",
    "lotto.sort()\n",
    "# print('1등 번호: {}'.format(lotto))\n",
    "\n",
    "# 보너스 번호\n",
    "while True:\n",
    "    bonus = random.randrange(1, 46)\n",
    "    # print(bonus)\n",
    "    if bonus not in lotto:\n",
    "        break\n",
    "    # ===== if\n",
    "# ===== while\n",
    "print('1등 번호: {}, 보너스 번호: {}'.format(lotto, bonus))"
   ]
  },
  {
   "cell_type": "code",
   "execution_count": null,
   "id": "d7aa3b6b",
   "metadata": {},
   "outputs": [],
   "source": []
  },
  {
   "cell_type": "code",
   "execution_count": null,
   "id": "f91adc9f",
   "metadata": {},
   "outputs": [],
   "source": []
  },
  {
   "cell_type": "code",
   "execution_count": null,
   "id": "3401022d",
   "metadata": {},
   "outputs": [],
   "source": []
  },
  {
   "cell_type": "code",
   "execution_count": null,
   "id": "286f9829",
   "metadata": {},
   "outputs": [],
   "source": []
  },
  {
   "cell_type": "code",
   "execution_count": null,
   "id": "7519d8d7",
   "metadata": {},
   "outputs": [],
   "source": []
  }
 ],
 "metadata": {
  "kernelspec": {
   "display_name": "Python 3 (ipykernel)",
   "language": "python",
   "name": "python3"
  },
  "language_info": {
   "codemirror_mode": {
    "name": "ipython",
    "version": 3
   },
   "file_extension": ".py",
   "mimetype": "text/x-python",
   "name": "python",
   "nbconvert_exporter": "python",
   "pygments_lexer": "ipython3",
   "version": "3.10.4"
  }
 },
 "nbformat": 4,
 "nbformat_minor": 5
}
