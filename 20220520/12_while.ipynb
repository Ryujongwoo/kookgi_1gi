{
 "cells": [
  {
   "cell_type": "markdown",
   "id": "3b521a1e",
   "metadata": {},
   "source": [
    "# while\n",
    "while은 조건이 참인동안 반복하고 조건이 거짓이되는 순간 반복이 종료된다.  \n",
    "while의 최초 진입 조건이 거짓이면 while 블록을 한 번도 실행하지 않는다.  \n",
    "for는 반복 횟수를 알고있는 경우 사용하고 while은 반복을 하기는 해야겠는데 몇 번 반복해야하는지 모를때 사용한다.\n",
    "***\n",
    "while 조건식:  \n",
    "&nbsp;&nbsp;&nbsp;&nbsp;조건이 참일 경우 실행할 문장  \n",
    "&nbsp;&nbsp;&nbsp;&nbsp;..."
   ]
  },
  {
   "cell_type": "code",
   "execution_count": 7,
   "id": "046d4df8",
   "metadata": {},
   "outputs": [
    {
     "name": "stdout",
     "output_type": "stream",
     "text": [
      "55\n"
     ]
    }
   ],
   "source": [
    "# 1 ~ 10의 합계\n",
    "# 변수는 선언시 반드시 초기화 시켜야 한다.\n",
    "i = 0 # 1 ~ 10까지 1씩 증가시키는 변수\n",
    "total = 0 # 1 ~ 10까지의 합계를 기억할 변수\n",
    "while i < 10:\n",
    "    i += 1\n",
    "    total += i\n",
    "# ===== while i < 10\n",
    "print(total)"
   ]
  },
  {
   "cell_type": "code",
   "execution_count": 9,
   "id": "f422761a",
   "metadata": {},
   "outputs": [
    {
     "name": "stdout",
     "output_type": "stream",
     "text": [
      "55\n"
     ]
    }
   ],
   "source": [
    "i = 0\n",
    "total = 0\n",
    "# 의도적으로 무한 루프를 발생시키려면 조건을 항상 참이되도록 하면된다.\n",
    "# 의도적으로 발생시킨 무한 루프는 반드시 break를 이용해서 무한 루프를 탈출시키는 처리를 해야한다.\n",
    "while True: # 의도한 무한 루프\n",
    "    i += 1\n",
    "    total += i\n",
    "    if i == 10:\n",
    "        break\n",
    "    # ===== if i == 10\n",
    "# ===== while True\n",
    "print(total)"
   ]
  },
  {
   "cell_type": "code",
   "execution_count": 11,
   "id": "db27db04",
   "metadata": {},
   "outputs": [
    {
     "name": "stdout",
     "output_type": "stream",
     "text": [
      "1\n",
      "3\n",
      "5\n",
      "7\n",
      "9\n"
     ]
    }
   ],
   "source": [
    "# break 명령은 반복 범위에 남아있는 문장들을 실행하지 않고 반복을 탈출하고 continue 명령은 반복 범위에 남아있는 문장들을\n",
    "# 실행하지 않고 다음 반복을 실행한다.\n",
    "i = 0\n",
    "while i < 10:\n",
    "    i += 1\n",
    "    if i % 2 == 0:\n",
    "        continue\n",
    "    # ===== if i % 2 == 0\n",
    "    print(i)"
   ]
  },
  {
   "cell_type": "code",
   "execution_count": 19,
   "id": "db459a50",
   "metadata": {
    "scrolled": true
   },
   "outputs": [
    {
     "name": "stdout",
     "output_type": "stream",
     "text": [
      "========================================\n",
      " 1.입력  2.보기  3.수정  4.삭제  5.종료 \n",
      "========================================\n",
      "원하는 메뉴를 입력하고 Enter키를 누르세요: 1\n",
      "입력작업\n",
      "========================================\n",
      " 1.입력  2.보기  3.수정  4.삭제  5.종료 \n",
      "========================================\n",
      "원하는 메뉴를 입력하고 Enter키를 누르세요: 2\n",
      "보기작업\n",
      "========================================\n",
      " 1.입력  2.보기  3.수정  4.삭제  5.종료 \n",
      "========================================\n",
      "원하는 메뉴를 입력하고 Enter키를 누르세요: 3\n",
      "수정작업\n",
      "========================================\n",
      " 1.입력  2.보기  3.수정  4.삭제  5.종료 \n",
      "========================================\n",
      "원하는 메뉴를 입력하고 Enter키를 누르세요: 4\n",
      "삭제작업\n",
      "========================================\n",
      " 1.입력  2.보기  3.수정  4.삭제  5.종료 \n",
      "========================================\n",
      "원하는 메뉴를 입력하고 Enter키를 누르세요: 0\n",
      "메뉴는 1 ~ 5 사이의 값만 입력해야 합니다.\n",
      "========================================\n",
      " 1.입력  2.보기  3.수정  4.삭제  5.종료 \n",
      "========================================\n",
      "원하는 메뉴를 입력하고 Enter키를 누르세요: 6\n",
      "메뉴는 1 ~ 5 사이의 값만 입력해야 합니다.\n",
      "========================================\n",
      " 1.입력  2.보기  3.수정  4.삭제  5.종료 \n",
      "========================================\n",
      "원하는 메뉴를 입력하고 Enter키를 누르세요: 5\n",
      "프로그램을 종료합니다. 바이바이~~~~~\n"
     ]
    }
   ],
   "source": [
    "menu = 0\n",
    "while menu != 5:\n",
    "    while True:\n",
    "        print('=' * 40)\n",
    "        print(' 1.입력  2.보기  3.수정  4.삭제  5.종료 ')\n",
    "        print('=' * 40)\n",
    "        menu = int(input('원하는 메뉴를 입력하고 Enter키를 누르세요: '))\n",
    "\n",
    "        # 메뉴가 1 ~ 5 사이의 값이 입력되었다면 무한 루프를 탈출시킨다.\n",
    "        # if 1 <= menu <= 5:\n",
    "        # if menu in [1, 2, 3, 4, 5]:\n",
    "        if menu >= 1 and menu <= 5:\n",
    "            break\n",
    "        else:\n",
    "            print('메뉴는 1 ~ 5 사이의 값만 입력해야 합니다.')\n",
    "        # ===== if\n",
    "    # ===== while\n",
    "\n",
    "    # 여기까지 넘어왔으면 memu에는 1 ~ 5 사이의 정수가 입력된것이다.\n",
    "    if menu == 1:\n",
    "        print('입력작업')\n",
    "    elif menu == 2:\n",
    "        print('보기작업')\n",
    "    elif menu == 3:\n",
    "        print('수정작업')\n",
    "    elif menu == 4:\n",
    "        print('삭제작업')\n",
    "# ===== while menu != 5:\n",
    "print('프로그램을 종료합니다. 바이바이~~~~~')"
   ]
  },
  {
   "cell_type": "code",
   "execution_count": null,
   "id": "e614d45a",
   "metadata": {},
   "outputs": [],
   "source": []
  },
  {
   "cell_type": "code",
   "execution_count": null,
   "id": "2028bac8",
   "metadata": {},
   "outputs": [],
   "source": []
  },
  {
   "cell_type": "code",
   "execution_count": null,
   "id": "6cd5868e",
   "metadata": {},
   "outputs": [],
   "source": []
  },
  {
   "cell_type": "code",
   "execution_count": null,
   "id": "173d1ba8",
   "metadata": {},
   "outputs": [],
   "source": []
  },
  {
   "cell_type": "code",
   "execution_count": null,
   "id": "188eb7d6",
   "metadata": {},
   "outputs": [],
   "source": []
  }
 ],
 "metadata": {
  "kernelspec": {
   "display_name": "Python 3 (ipykernel)",
   "language": "python",
   "name": "python3"
  },
  "language_info": {
   "codemirror_mode": {
    "name": "ipython",
    "version": 3
   },
   "file_extension": ".py",
   "mimetype": "text/x-python",
   "name": "python",
   "nbconvert_exporter": "python",
   "pygments_lexer": "ipython3",
   "version": "3.10.4"
  }
 },
 "nbformat": 4,
 "nbformat_minor": 5
}
